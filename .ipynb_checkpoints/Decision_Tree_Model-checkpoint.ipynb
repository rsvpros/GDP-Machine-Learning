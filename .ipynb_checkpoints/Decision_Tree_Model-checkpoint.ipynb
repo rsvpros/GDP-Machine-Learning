{
 "cells": [
  {
   "cell_type": "markdown",
   "metadata": {},
   "source": [
    "# GDP Machine Learning Model\n",
    "### Ravi Shankar\n",
    "\n",
    "GDP is an important indicator of economic activity in a nation. GDP is the sum of values (in USD) of products produced in a nation\n",
    "\n",
    "The data we wil compare with GDP/ capita (The GDP of a nation divided by its population):\n",
    "\n",
    "\n",
    "- GDP\n",
    "- Number secure internet servers/ million people\n",
    "- Exports (as percentage of GDP)\n",
    "- Imports (as percentage of GDP)\n",
    "\n",
    "We will create a Machine Learning model to tease out any trends or relationships between the features. This is an example of exploratory modelling. "
   ]
  },
  {
   "cell_type": "markdown",
   "metadata": {},
   "source": [
    "# Import Data"
   ]
  },
  {
   "cell_type": "markdown",
   "metadata": {},
   "source": [
    "# EDA"
   ]
  },
  {
   "cell_type": "markdown",
   "metadata": {},
   "source": [
    "# Create ML Model"
   ]
  }
 ],
 "metadata": {
  "language_info": {
   "name": "plaintext"
  },
  "orig_nbformat": 4
 },
 "nbformat": 4,
 "nbformat_minor": 2
}
