{
 "cells": [
  {
   "cell_type": "markdown",
   "metadata": {},
   "source": [
    "# GDP Machine Learning Model\n",
    "### Ravi Shankar\n",
    "\n",
    "27 March 2022\n",
    "\n",
    "GDP is an important indicator of economic activity in a nation. GDP is the sum of values (in USD) of good and services produced in a nation during a year, including net exports. The GDP per capita (The GDP of a nation divided by its population) varies significantly among countries of the world, and is a key indicator of standard of living. Here we use nominal GDP, which is not adjusted by the prices in each country.\n",
    "\n",
    "We want to find a model to see what factors correlate with GDP per capita. \n",
    "\n",
    "**Data comes via the World Bank, and the data across all listed countries was taken from 2018** because that was the most complete and recent year.\n",
    "\n",
    "Worldbank's [GDP](https://data.worldbank.org/indicator/Ny.Gdp.Mktp.Cd) data will be compared with these other indexes:\n",
    "\n",
    "- [Population](https://data.worldbank.org/indicator/SP.POP.TOTL)\n",
    "- [Number secure internet servers/ million people](https://data.worldbank.org/indicator/IT.NET.SECR.P6)\n",
    "- [Exports (as percentage of GDP)](https://data.worldbank.org/indicator/NE.EXP.GNFS.ZS)\n",
    "- [Imports (as percentage of GDP)](https://data.worldbank.org/indicator/NE.IMP.GNFS.ZS?view=chart)\n",
    "\n",
    "We will create a [Regression Decision Tree](https://scikit-learn.org/stable/modules/generated/sklearn.tree.DecisionTreeRegressor.html) to see which features best seperate GDP per capita and tease out any trends or relationships between the features. This is an example of explanatory modelling. \n",
    "\n",
    "This model will also give us the ability to predict GDP. If there was a hypothetical new country where we knew their population, what percentage of their GDP is imports/exports, and their number of internet servers, then we would have a data-based estimate of what their GDP would be."
   ]
  },
  {
   "cell_type": "markdown",
   "metadata": {},
   "source": [
    "# Import Data"
   ]
  },
  {
   "cell_type": "code",
   "execution_count": 1,
   "metadata": {},
   "outputs": [],
   "source": [
    "import numpy as np\n",
    "import matplotlib.pyplot as plt\n",
    "import pandas as pd\n",
    "import scipy.stats as stats"
   ]
  },
  {
   "cell_type": "code",
   "execution_count": 2,
   "metadata": {},
   "outputs": [
    {
     "name": "stdout",
     "output_type": "stream",
     "text": [
      "Number rows dropped due to NaN's:  34\n"
     ]
    },
    {
     "data": {
      "text/html": [
       "<div>\n",
       "<style scoped>\n",
       "    .dataframe tbody tr th:only-of-type {\n",
       "        vertical-align: middle;\n",
       "    }\n",
       "\n",
       "    .dataframe tbody tr th {\n",
       "        vertical-align: top;\n",
       "    }\n",
       "\n",
       "    .dataframe thead th {\n",
       "        text-align: right;\n",
       "    }\n",
       "</style>\n",
       "<table border=\"1\" class=\"dataframe\">\n",
       "  <thead>\n",
       "    <tr style=\"text-align: right;\">\n",
       "      <th></th>\n",
       "      <th>Country Name</th>\n",
       "      <th>GDP</th>\n",
       "      <th>Internet</th>\n",
       "      <th>Exports</th>\n",
       "      <th>Imports</th>\n",
       "      <th>Population</th>\n",
       "      <th>GDPpC</th>\n",
       "    </tr>\n",
       "  </thead>\n",
       "  <tbody>\n",
       "    <tr>\n",
       "      <th>0</th>\n",
       "      <td>Aruba</td>\n",
       "      <td>3.202189e+09</td>\n",
       "      <td>1152.617954</td>\n",
       "      <td>73.799397</td>\n",
       "      <td>74.626405</td>\n",
       "      <td>1.058460e+05</td>\n",
       "      <td>30253.279359</td>\n",
       "    </tr>\n",
       "    <tr>\n",
       "      <th>1</th>\n",
       "      <td>Africa Eastern and Southern</td>\n",
       "      <td>9.866110e+11</td>\n",
       "      <td>1164.559933</td>\n",
       "      <td>26.732987</td>\n",
       "      <td>29.070033</td>\n",
       "      <td>6.430901e+08</td>\n",
       "      <td>1534.172198</td>\n",
       "    </tr>\n",
       "    <tr>\n",
       "      <th>2</th>\n",
       "      <td>Africa Western and Central</td>\n",
       "      <td>7.381310e+11</td>\n",
       "      <td>89.707350</td>\n",
       "      <td>21.468395</td>\n",
       "      <td>23.620981</td>\n",
       "      <td>4.352294e+08</td>\n",
       "      <td>1695.958573</td>\n",
       "    </tr>\n",
       "    <tr>\n",
       "      <th>3</th>\n",
       "      <td>Angola</td>\n",
       "      <td>1.013530e+11</td>\n",
       "      <td>11.197741</td>\n",
       "      <td>40.836290</td>\n",
       "      <td>25.541821</td>\n",
       "      <td>3.080979e+07</td>\n",
       "      <td>3289.636504</td>\n",
       "    </tr>\n",
       "    <tr>\n",
       "      <th>4</th>\n",
       "      <td>Albania</td>\n",
       "      <td>1.514702e+10</td>\n",
       "      <td>526.099856</td>\n",
       "      <td>31.591574</td>\n",
       "      <td>45.264314</td>\n",
       "      <td>2.866376e+06</td>\n",
       "      <td>5284.380184</td>\n",
       "    </tr>\n",
       "    <tr>\n",
       "      <th>...</th>\n",
       "      <td>...</td>\n",
       "      <td>...</td>\n",
       "      <td>...</td>\n",
       "      <td>...</td>\n",
       "      <td>...</td>\n",
       "      <td>...</td>\n",
       "      <td>...</td>\n",
       "    </tr>\n",
       "    <tr>\n",
       "      <th>227</th>\n",
       "      <td>World</td>\n",
       "      <td>8.613930e+13</td>\n",
       "      <td>6171.416896</td>\n",
       "      <td>29.239847</td>\n",
       "      <td>28.514729</td>\n",
       "      <td>7.592476e+09</td>\n",
       "      <td>11345.350893</td>\n",
       "    </tr>\n",
       "    <tr>\n",
       "      <th>228</th>\n",
       "      <td>Samoa</td>\n",
       "      <td>8.214961e+08</td>\n",
       "      <td>535.364660</td>\n",
       "      <td>34.181263</td>\n",
       "      <td>50.224796</td>\n",
       "      <td>1.961280e+05</td>\n",
       "      <td>4188.571058</td>\n",
       "    </tr>\n",
       "    <tr>\n",
       "      <th>229</th>\n",
       "      <td>South Africa</td>\n",
       "      <td>3.682890e+11</td>\n",
       "      <td>12031.591630</td>\n",
       "      <td>29.907083</td>\n",
       "      <td>29.563251</td>\n",
       "      <td>5.779252e+07</td>\n",
       "      <td>6372.606697</td>\n",
       "    </tr>\n",
       "    <tr>\n",
       "      <th>230</th>\n",
       "      <td>Zambia</td>\n",
       "      <td>2.631164e+10</td>\n",
       "      <td>41.206304</td>\n",
       "      <td>37.957353</td>\n",
       "      <td>36.930894</td>\n",
       "      <td>1.735171e+07</td>\n",
       "      <td>1516.371100</td>\n",
       "    </tr>\n",
       "    <tr>\n",
       "      <th>231</th>\n",
       "      <td>Zimbabwe</td>\n",
       "      <td>1.952362e+10</td>\n",
       "      <td>46.610483</td>\n",
       "      <td>11.608991</td>\n",
       "      <td>18.943282</td>\n",
       "      <td>1.443881e+07</td>\n",
       "      <td>1352.162653</td>\n",
       "    </tr>\n",
       "  </tbody>\n",
       "</table>\n",
       "<p>232 rows × 7 columns</p>\n",
       "</div>"
      ],
      "text/plain": [
       "                    Country Name           GDP      Internet    Exports  \\\n",
       "0                          Aruba  3.202189e+09   1152.617954  73.799397   \n",
       "1    Africa Eastern and Southern  9.866110e+11   1164.559933  26.732987   \n",
       "2     Africa Western and Central  7.381310e+11     89.707350  21.468395   \n",
       "3                         Angola  1.013530e+11     11.197741  40.836290   \n",
       "4                        Albania  1.514702e+10    526.099856  31.591574   \n",
       "..                           ...           ...           ...        ...   \n",
       "227                        World  8.613930e+13   6171.416896  29.239847   \n",
       "228                        Samoa  8.214961e+08    535.364660  34.181263   \n",
       "229                 South Africa  3.682890e+11  12031.591630  29.907083   \n",
       "230                       Zambia  2.631164e+10     41.206304  37.957353   \n",
       "231                     Zimbabwe  1.952362e+10     46.610483  11.608991   \n",
       "\n",
       "       Imports    Population         GDPpC  \n",
       "0    74.626405  1.058460e+05  30253.279359  \n",
       "1    29.070033  6.430901e+08   1534.172198  \n",
       "2    23.620981  4.352294e+08   1695.958573  \n",
       "3    25.541821  3.080979e+07   3289.636504  \n",
       "4    45.264314  2.866376e+06   5284.380184  \n",
       "..         ...           ...           ...  \n",
       "227  28.514729  7.592476e+09  11345.350893  \n",
       "228  50.224796  1.961280e+05   4188.571058  \n",
       "229  29.563251  5.779252e+07   6372.606697  \n",
       "230  36.930894  1.735171e+07   1516.371100  \n",
       "231  18.943282  1.443881e+07   1352.162653  \n",
       "\n",
       "[232 rows x 7 columns]"
      ]
     },
     "execution_count": 2,
     "metadata": {},
     "output_type": "execute_result"
    }
   ],
   "source": [
    "GDPDF = pd.read_csv(\"Data/GDP_attributes.csv\")\n",
    "\n",
    "#Drop countries with any NaNs in the data\n",
    "length_before_drop = len(GDPDF)\n",
    "GDPDF = GDPDF.dropna()\n",
    "#reset indices\n",
    "GDPDF =GDPDF.reset_index()\n",
    "GDPDF = GDPDF.drop(\"index\", axis =1)\n",
    "\n",
    "print(\"Number rows dropped due to NaN's: \", length_before_drop-len(GDPDF))\n",
    "\n",
    "\n",
    "#Rename column features\n",
    "GDPDF.columns = [\"Country Name\", \"GDP\", \"Internet\", \"Exports\", \"Imports\", \"Population\" ]\n",
    "\n",
    "#Add GDP per Capita Feature\n",
    "GDPDF[\"GDPpC\"] = GDPDF[\"GDP\"]/GDPDF[\"Population\"]\n",
    "\n",
    "GDPDF"
   ]
  },
  {
   "cell_type": "markdown",
   "metadata": {
    "tags": []
   },
   "source": [
    "# EDA\n",
    "\n",
    "First let us create a boxplot to  visualize the spread of all the nations with complete data's GDP/capita (232 total):\n"
   ]
  },
  {
   "cell_type": "code",
   "execution_count": 3,
   "metadata": {},
   "outputs": [
    {
     "name": "stdout",
     "output_type": "stream",
     "text": [
      "Mean GDP of all countries recorded:  15746.01\n",
      "Median GDP of all countries recorded:  6833.83\n",
      "\n",
      "Left Whisker :  -23442.87441784389\n",
      "Q1 quantile of GDP/capita :  2152.618376651528\n",
      "Q3 quantile of GDP/capita :  19216.280239648473\n",
      "Right Whisker :  44811.77303414389\n"
     ]
    },
    {
     "data": {
      "text/plain": [
       "271.7524963582891"
      ]
     },
     "execution_count": 3,
     "metadata": {},
     "output_type": "execute_result"
    },
    {
     "data": {
      "image/png": "[encoded data removed]",
      "text/plain": [
       "<Figure size 720x504 with 1 Axes>"
      ]
     },
     "metadata": {
      "needs_background": "light"
     },
     "output_type": "display_data"
    }
   ],
   "source": [
    "# Import libraries\n",
    "import matplotlib.pyplot as plt\n",
    "import numpy as np\n",
    "\n",
    "#ref: https://www.geeksforgeeks.org/box-plot-in-python-using-matplotlib/\n",
    "#https://matplotlib.org/stable/api/_as_gen/matplotlib.pyplot.boxplot.html\n",
    "# Creating dataset, data = GDP per capita for 238 countries\n",
    "data = GDPDF.GDPpC\n",
    "\n",
    "fig = plt.figure(figsize =(10, 7))\n",
    "ax = fig.add_subplot(111)\n",
    " \n",
    "# Creating axes instance (horizontal box plot)\n",
    "bp = ax.boxplot(data, vert = 0)\n",
    "\n",
    "# x-axis labels\n",
    "ax.set_yticklabels([''])\n",
    "ax.set_xlabel('2018 USD')\n",
    "    \n",
    "# Adding title\n",
    "plt.title(\"Box plot of GDP/capita for world countries\")\n",
    "\n",
    "mean_GDP = np.mean(data)\n",
    "median_GDP = np.median(data)\n",
    "\n",
    "print(\"Mean GDP of all countries recorded: \", round(mean_GDP,2))\n",
    "print(\"Median GDP of all countries recorded: \", round(median_GDP,2))\n",
    "print()\n",
    "\n",
    "#Whiskers are calculated as Q1 - 1.5*IQR or Q3 + 1.5*IQR (see matplotlib documentation)\n",
    "IQR = np.quantile(data, .75) - np.quantile(data, .25)\n",
    "print(\"Left Whisker : \", np.quantile(data, .25)- 1.5*IQR)\n",
    "print(\"Q1 quantile of GDP/capita : \", np.quantile(data, .25)) \n",
    "print(\"Q3 quantile of GDP/capita : \", np.quantile(data, .75)) \n",
    "print(\"Right Whisker : \", np.quantile(data, .75)+ 1.5*IQR)\n",
    "\n",
    "np.quantile(data,0)\n"
   ]
  },
  {
   "cell_type": "markdown",
   "metadata": {},
   "source": [
    "The world distribution of GDP/capita is very right skewed. There are many \"outlier\" countries higher than the 3rd Quartile, but there are not any lower than the first quartile. \n",
    "\n",
    "Another indication of the right skew is how much larger the mean is than the median:\n",
    "\n",
    "Mean | Median\n",
    "---|---\n",
    "\\$15,746.01 |$6,833.83\n",
    "\n",
    "The Boxplot distributions is as follows:\n",
    "\n",
    "Left Whisker | Q1 | Median| Q3 |Right Whisker\n",
    "---|---|---|---|---\n",
    "-\\$23442.87 |\\$2152.62|\\$6,833.83|\\$19,216.28|\\$44811.77\n",
    "\n",
    "Essentially, there are many \"outlier\" values on the right end with GDP/capita's of more than $44811.77, but none on the left end so the model should consider that when optimizing."
   ]
  },
  {
   "cell_type": "markdown",
   "metadata": {},
   "source": [
    "# GDP Predictive Regression Tree Model\n",
    "\n",
    "Here we will fit a Regression Tree classifier to the GDP data using the sklearn package.\n",
    "\n",
    "The optimal max `tree_depth` will be calculated using 5 fold validation for all possible depths.\n",
    "\n",
    "Then the decision tree will be presented for guidance."
   ]
  },
  {
   "cell_type": "markdown",
   "metadata": {
    "tags": []
   },
   "source": [
    "# Find optimum `tree_depth` through kfoldValidation\n",
    "\n",
    "The hyperparameter we will choose to tune is `tree_depth.` This can be optimized, because when the `tree_depth` is too low, the tree model will underfit the data and give high bias. If the `tree_depth` is too high, the model will overfit to the training data and the variance of testing predictions will be too high.\n",
    "\n",
    "\n",
    "5-fold validation will be done on each possible `tree_depth` (1 to 8 for this size of data). The average MSE (mean squared error) of the five folds will be plotted alongside `tree_depth` to find if there is an optimum"
   ]
  },
  {
   "cell_type": "code",
   "execution_count": 4,
   "metadata": {},
   "outputs": [],
   "source": [
    "def kfoldValidate(X , y , model, folds = 5 ):\n",
    "    '''\n",
    "    input: X data (features), y data (target), a sklearn model\n",
    "    output: the list of MSEs of that model when k-fold validated. list length  = num folds\n",
    "    \n",
    "    example: \n",
    "    @params: \n",
    "    depth (int): depth of the tree to fit a model to.\n",
    "    '''\n",
    "    \n",
    "    import numpy as np\n",
    "    from sklearn.model_selection import KFold\n",
    "    from sklearn.metrics import mean_squared_error\n",
    "    from sklearn.tree import DecisionTreeRegressor \n",
    "    \n",
    "    \n",
    "    \n",
    "    kf = KFold(n_splits=folds, random_state=None, shuffle=False)\n",
    "    kf.get_n_splits(X)\n",
    "    #print(kf)\n",
    "    \n",
    "    MSE_list = []\n",
    "    \n",
    "    for train_index, test_index in kf.split(X):\n",
    "        #print(\"TRAIN:\", train_index, \"TEST:\", test_index)\n",
    "        \n",
    "        #Create train-test splits\n",
    "        X_train, X_test = X[train_index], X[test_index]\n",
    "        y_train, y_test = y[train_index], y[test_index]\n",
    "        \n",
    "        #Train Model \n",
    "        model = model.fit(X_train,y_train)\n",
    "        \n",
    "        #Test Model\n",
    "        y_predicted = model.predict(X_test)\n",
    "        \n",
    "        #Return RMSD\n",
    "        MSE = mean_squared_error(y_test, y_predicted)\n",
    "        MSE_list.append(MSE)\n",
    "        \n",
    "    return MSE_list"
   ]
  },
  {
   "cell_type": "code",
   "execution_count": 5,
   "metadata": {},
   "outputs": [
    {
     "data": {
      "image/png": "[encoded data removed]",
      "text/plain": [
       "<Figure size 432x288 with 1 Axes>"
      ]
     },
     "metadata": {
      "needs_background": "light"
     },
     "output_type": "display_data"
    },
    {
     "name": "stdout",
     "output_type": "stream",
     "text": [
      "The minimum MSE value is:  293537383.4844372  at depth:  3\n"
     ]
    }
   ],
   "source": [
    "from sklearn.tree import DecisionTreeRegressor \n",
    "\n",
    "#Set up X and y\n",
    "#X is 238 x 4 matrix\n",
    "#y is 238 x 1 matrix\n",
    "\n",
    "X = np.matrix(GDPDF.drop([ 'GDP','Country Name', 'GDPpC'], axis=1))\n",
    "y = np.matrix( GDPDF.GDPpC )\n",
    "y = y.reshape(-1, 1) \n",
    "\n",
    "\n",
    "\n",
    "#Get a RMSE from 5 fold validating on each tree_depth from 1 to 8\n",
    "MSE_list = []\n",
    "tree_depth_sizes = range(1,9)\n",
    "#we will try 5-fold validation on \n",
    "for tree_depth in tree_depth_sizes:\n",
    "    #Create Model\n",
    "    regressor = DecisionTreeRegressor( random_state = 0,  max_depth = tree_depth) \n",
    "\n",
    "    model = regressor.fit(X, y)\n",
    "\n",
    "    #################\n",
    "    #5-fold validate#\n",
    "    #################\n",
    "\n",
    "    MSE_5_fold = kfoldValidate(X, y, regressor, folds =5) \n",
    "    #Append AVERAGE MSE over the 5 folds\n",
    "    MSE_list.append(np.mean(MSE_5_fold) )\n",
    "\n",
    "\n",
    "######\n",
    "#PLOT#\n",
    "######\n",
    "# Adding title\n",
    "plt.title(\"MSE of different `tree_depth` values \")\n",
    "plt.xlabel(\"tree_depth \")\n",
    "plt.ylabel(\"MSE of predicted GDP (USD) \")\n",
    "\n",
    "\n",
    "plt.plot(tree_depth_sizes, MSE_list)\n",
    "plt.show()\n",
    "\n",
    "print(\"The minimum MSE value is: \" , min(MSE_list), \" at depth: \" , 1+ MSE_list.index(min(MSE_list)))\n",
    "\n"
   ]
  },
  {
   "cell_type": "markdown",
   "metadata": {},
   "source": [
    "The **optimal tree_depth to predict GDP per capita is 3**. At that depth, the prediction MSE was 293,537,383.48, which means there is a Root-Mean-Squared Deviation (RSMD) of  $17,132.93.\n",
    "\n",
    "### Present Optimal decision tree regression model:\n",
    "\n"
   ]
  },
  {
   "cell_type": "code",
   "execution_count": 6,
   "metadata": {},
   "outputs": [],
   "source": [
    "from sklearn.tree import DecisionTreeRegressor \n",
    "from sklearn import tree\n",
    "import matplotlib.pyplot as plt\n",
    "\n",
    "#Decision tree with depth provided\n",
    "#decision_tree = tree.DecisionTreeClassifier(max_depth = depth)\n",
    "\n",
    "#Set up X and y\n",
    "X = np.matrix(GDPDF.drop([ 'GDP','Country Name', 'GDPpC'], axis=1))\n",
    "\n",
    "y = np.matrix( GDPDF.GDPpC )\n",
    "y = y.reshape(-1, 1) \n",
    "\n",
    "#METHOD CALL:\n",
    "regressor = DecisionTreeRegressor( random_state = 0,  max_depth = 3) \n",
    "# I would have liked to use absolute error instead of MSE, but couldn't get it to work\n",
    "    \n",
    "model = regressor.fit(X, y)\n",
    "\n",
    "#Export a Prettier graph a la: https://www.geeksforgeeks.org/python-decision-tree-regression-using-sklearn/\n",
    "\n",
    "# import export_graphviz\n",
    "from sklearn.tree import export_graphviz \n",
    "  \n",
    "# export the decision tree to a tree.dot file\n",
    "# for visualizing the plot easily anywhere\n",
    "export_graphviz(regressor, out_file ='GDPtree.dot',\n",
    "               feature_names =[\"Internet\", \"Exports\", \"Imports\", \"Population\" ]) \n",
    "\n",
    "#NOTE: Graphviz exports"
   ]
  },
  {
   "cell_type": "markdown",
   "metadata": {},
   "source": [
    "\n",
    "![GDPTree](./GDPtree2.png)\n",
    "\n",
    "Note: graphviz exports a .dot file. To convert it to a .png to get the graph tree diagram as a picture, first install graphviz via anaconda prompt:\n",
    "\n",
    "`conda install python-graphviz`\n",
    "\n",
    "Then use the `dot` command after cd'ing to the folder to convert from .dot to .png:\n",
    "\n",
    "`dot -Tpng GDPtree.dot -o GDPtree.png`"
   ]
  },
  {
   "cell_type": "markdown",
   "metadata": {
    "tags": []
   },
   "source": [
    "# Results\n",
    "\n",
    "The **optimal tree_depth to predict GDP per capita was 3**, as found by 5-fold validation pictured above. At that depth, the prediction MSE was 293,537,383.48, and the **RMSD was $17,132.93.**\n",
    "\n",
    "It was found that **internet servers per capita was the best feature for seperating GDP per capita.**\n",
    "\n",
    "After that, population is the feature with the strongest effect on determining GDP per capita.\n",
    "\n",
    "Also some nodes had only one sample, indicating outliers with unique combinations of statistics. For instance:\n",
    "- 13 countries had over 42,700 internet servers/ million population, but only one country out of those had exports over 194% of their GDP (**Luxembourg**)\n",
    "- 37 countries had between 8,112 and 42,748 internet servers/ million population, but only one country out of those had a population less than 223,495 (**Bermuda**)"
   ]
  }
 ],
 "metadata": {
  "kernelspec": {
   "display_name": "Python 3 (ipykernel)",
   "language": "python",
   "name": "python3"
  },
  "language_info": {
   "codemirror_mode": {
    "name": "ipython",
    "version": 3
   },
   "file_extension": ".py",
   "mimetype": "text/x-python",
   "name": "python",
   "nbconvert_exporter": "python",
   "pygments_lexer": "ipython3",
   "version": "3.9.7"
  }
 },
 "nbformat": 4,
 "nbformat_minor": 4
}
